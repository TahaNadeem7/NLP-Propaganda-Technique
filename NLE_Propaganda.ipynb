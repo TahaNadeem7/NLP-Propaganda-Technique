{
  "nbformat": 4,
  "nbformat_minor": 0,
  "metadata": {
    "colab": {
      "provenance": [],
      "gpuType": "T4"
    },
    "kernelspec": {
      "name": "python3",
      "display_name": "Python 3"
    },
    "language_info": {
      "name": "python"
    },
    "accelerator": "GPU",
    "gpuClass": "standard"
  },
  "cells": [
    {
      "cell_type": "markdown",
      "source": [
        "Task 1 - Method 1 - BERT Classifier Technique "
      ],
      "metadata": {
        "id": "FyMAO77wV33J"
      }
    },
    {
      "cell_type": "code",
      "execution_count": 49,
      "metadata": {
        "id": "Tj9JANVYTrjI",
        "colab": {
          "base_uri": "https://localhost:8080/"
        },
        "outputId": "fb33f0de-7e21-4414-b9f3-b193e80ea817"
      },
      "outputs": [
        {
          "output_type": "stream",
          "name": "stdout",
          "text": [
            "Looking in indexes: https://pypi.org/simple, https://us-python.pkg.dev/colab-wheels/public/simple/\n",
            "Requirement already satisfied: transformers in /usr/local/lib/python3.10/dist-packages (4.28.1)\n",
            "Requirement already satisfied: requests in /usr/local/lib/python3.10/dist-packages (from transformers) (2.27.1)\n",
            "Requirement already satisfied: packaging>=20.0 in /usr/local/lib/python3.10/dist-packages (from transformers) (23.1)\n",
            "Requirement already satisfied: huggingface-hub<1.0,>=0.11.0 in /usr/local/lib/python3.10/dist-packages (from transformers) (0.14.1)\n",
            "Requirement already satisfied: regex!=2019.12.17 in /usr/local/lib/python3.10/dist-packages (from transformers) (2022.10.31)\n",
            "Requirement already satisfied: tokenizers!=0.11.3,<0.14,>=0.11.1 in /usr/local/lib/python3.10/dist-packages (from transformers) (0.13.3)\n",
            "Requirement already satisfied: tqdm>=4.27 in /usr/local/lib/python3.10/dist-packages (from transformers) (4.65.0)\n",
            "Requirement already satisfied: pyyaml>=5.1 in /usr/local/lib/python3.10/dist-packages (from transformers) (6.0)\n",
            "Requirement already satisfied: filelock in /usr/local/lib/python3.10/dist-packages (from transformers) (3.12.0)\n",
            "Requirement already satisfied: numpy>=1.17 in /usr/local/lib/python3.10/dist-packages (from transformers) (1.22.4)\n",
            "Requirement already satisfied: typing-extensions>=3.7.4.3 in /usr/local/lib/python3.10/dist-packages (from huggingface-hub<1.0,>=0.11.0->transformers) (4.5.0)\n",
            "Requirement already satisfied: fsspec in /usr/local/lib/python3.10/dist-packages (from huggingface-hub<1.0,>=0.11.0->transformers) (2023.4.0)\n",
            "Requirement already satisfied: charset-normalizer~=2.0.0 in /usr/local/lib/python3.10/dist-packages (from requests->transformers) (2.0.12)\n",
            "Requirement already satisfied: urllib3<1.27,>=1.21.1 in /usr/local/lib/python3.10/dist-packages (from requests->transformers) (1.26.15)\n",
            "Requirement already satisfied: idna<4,>=2.5 in /usr/local/lib/python3.10/dist-packages (from requests->transformers) (3.4)\n",
            "Requirement already satisfied: certifi>=2017.4.17 in /usr/local/lib/python3.10/dist-packages (from requests->transformers) (2022.12.7)\n"
          ]
        }
      ],
      "source": [
        "!pip install transformers\n",
        "import pandas as pd\n",
        "import numpy as np\n",
        "from sklearn.model_selection import train_test_split\n",
        "from sklearn.metrics import classification_report\n",
        "import torch\n",
        "from torch.utils.data import Dataset, DataLoader\n",
        "from transformers import BertTokenizer, BertForSequenceClassification, AdamW, get_linear_schedule_with_warmup\n",
        "from tqdm import tqdm\n",
        "import os\n"
      ]
    },
    {
      "cell_type": "code",
      "source": [
        "def remove_tags(text):\n",
        "    return text.replace(\"<BOS>\", \"\").replace(\"<EOS>\", \"\").strip()\n",
        "\n",
        "\n",
        "train_df = pd.read_csv('propaganda_train.tsv',\n",
        "                       delimiter='\\t', names=['label', 'sentence'])\n",
        "test_df = pd.read_csv('propaganda_val.tsv', delimiter='\\t',\n",
        "                      names=['label', 'sentence'])\n",
        "\n",
        "train_df['sentence'] = train_df['sentence'].apply(remove_tags)\n",
        "test_df['sentence'] = test_df['sentence'].apply(remove_tags)\n",
        "\n",
        "train_df['label'] = train_df['label'].apply(\n",
        "    lambda x: 0 if x == 'not_propaganda' else 1)\n",
        "test_df['label'] = test_df['label'].apply(\n",
        "    lambda x: 0 if x == 'not_propaganda' else 1)\n",
        "\n",
        "train_df, val_df = train_test_split(\n",
        "    train_df, test_size=0.1, random_state=42)\n",
        "\n",
        "train_df = train_df.reset_index(drop=True)\n",
        "val_df = val_df.reset_index(drop=True)"
      ],
      "metadata": {
        "id": "6jARjqzPTxr3"
      },
      "execution_count": 50,
      "outputs": []
    },
    {
      "cell_type": "code",
      "source": [
        "class PropagandaDataset(Dataset):\n",
        "    def __init__(self, sentences, labels, tokenizer, max_length):\n",
        "        self.sentences = sentences\n",
        "        self.labels = labels\n",
        "        self.tokenizer = tokenizer\n",
        "        self.max_length = max_length\n",
        "\n",
        "    def __len__(self):\n",
        "        return len(self.sentences)\n",
        "\n",
        "    def __getitem__(self, idx):\n",
        "        sentence = self.sentences[idx]\n",
        "        label = self.labels[idx]\n",
        "        encoding = self.tokenizer.encode_plus(\n",
        "            sentence,\n",
        "            add_special_tokens=True,\n",
        "            max_length=self.max_length,\n",
        "            return_token_type_ids=False,\n",
        "            padding='max_length',\n",
        "            truncation=True,\n",
        "            return_attention_mask=True,\n",
        "            return_tensors='pt',\n",
        "        )\n",
        "        return {\n",
        "            'input_ids': encoding['input_ids'].flatten(),\n",
        "            'attention_mask': encoding['attention_mask'].flatten(),\n",
        "            'label': torch.tensor(label, dtype=torch.long),\n",
        "        }"
      ],
      "metadata": {
        "id": "sssmmPKBT1JO"
      },
      "execution_count": 51,
      "outputs": []
    },
    {
      "cell_type": "code",
      "source": [
        "tokenizer = BertTokenizer.from_pretrained('bert-base-uncased')\n",
        "max_length = 128\n",
        "\n",
        "train_dataset = PropagandaDataset(\n",
        "    train_df['sentence'], train_df['label'], tokenizer, max_length)\n",
        "val_dataset = PropagandaDataset(\n",
        "    val_df['sentence'], val_df['label'], tokenizer, max_length)\n",
        "test_dataset = PropagandaDataset(\n",
        "    test_df['sentence'], test_df['label'], tokenizer, max_length)\n",
        "\n",
        "batch_size = 16\n",
        "\n",
        "train_loader = DataLoader(train_dataset, batch_size=batch_size, shuffle=True)\n",
        "val_loader = DataLoader(val_dataset, batch_size=batch_size, shuffle=False)\n",
        "test_loader = DataLoader(test_dataset, batch_size=batch_size, shuffle=False)\n",
        "\n",
        "model = BertForSequenceClassification.from_pretrained(\n",
        "    'bert-base-uncased', num_labels=2)\n",
        "device = torch.device('cuda' if torch.cuda.is_available() else 'cpu')\n",
        "model.to(device)\n",
        "\n",
        "optimizer = AdamW(model.parameters(), lr=2e-5, correct_bias=False)\n",
        "epochs = 3\n",
        "total_steps = len(train_loader) * epochs\n",
        "scheduler = get_linear_schedule_with_warmup(\n",
        "    optimizer, num_warmup_steps=0, num_training_steps=total_steps)"
      ],
      "metadata": {
        "id": "M_jCvIPhT4Ty",
        "colab": {
          "base_uri": "https://localhost:8080/"
        },
        "outputId": "022a73d7-d293-4656-d15b-095f1ec49cc8"
      },
      "execution_count": 52,
      "outputs": [
        {
          "output_type": "stream",
          "name": "stderr",
          "text": [
            "Some weights of the model checkpoint at bert-base-uncased were not used when initializing BertForSequenceClassification: ['cls.predictions.transform.LayerNorm.weight', 'cls.seq_relationship.weight', 'cls.seq_relationship.bias', 'cls.predictions.bias', 'cls.predictions.decoder.weight', 'cls.predictions.transform.LayerNorm.bias', 'cls.predictions.transform.dense.bias', 'cls.predictions.transform.dense.weight']\n",
            "- This IS expected if you are initializing BertForSequenceClassification from the checkpoint of a model trained on another task or with another architecture (e.g. initializing a BertForSequenceClassification model from a BertForPreTraining model).\n",
            "- This IS NOT expected if you are initializing BertForSequenceClassification from the checkpoint of a model that you expect to be exactly identical (initializing a BertForSequenceClassification model from a BertForSequenceClassification model).\n",
            "Some weights of BertForSequenceClassification were not initialized from the model checkpoint at bert-base-uncased and are newly initialized: ['classifier.bias', 'classifier.weight']\n",
            "You should probably TRAIN this model on a down-stream task to be able to use it for predictions and inference.\n",
            "/usr/local/lib/python3.10/dist-packages/transformers/optimization.py:391: FutureWarning: This implementation of AdamW is deprecated and will be removed in a future version. Use the PyTorch implementation torch.optim.AdamW instead, or set `no_deprecation_warning=True` to disable this warning\n",
            "  warnings.warn(\n"
          ]
        }
      ]
    },
    {
      "cell_type": "code",
      "source": [
        "def train_epoch(model, data_loader, optimizer, device, scheduler):\n",
        "    model.train()\n",
        "    total_loss = 0\n",
        "    for batch in tqdm(data_loader):\n",
        "        input_ids = batch['input_ids'].to(device)\n",
        "        attention_mask = batch['attention_mask'].to(device)\n",
        "        labels = batch['label'].to(device)\n",
        "\n",
        "        optimizer.zero_grad()\n",
        "        outputs = model(\n",
        "            input_ids, attention_mask=attention_mask, labels=labels)\n",
        "        loss = outputs.loss\n",
        "        total_loss += loss.item()\n",
        "        loss.backward()\n",
        "        torch.nn.utils.clip_grad_norm_(model.parameters(), max_norm=1.0)\n",
        "        optimizer.step()\n",
        "        scheduler.step()\n",
        "    return total_loss / len(data_loader)\n"
      ],
      "metadata": {
        "id": "4VhICkP5UA82"
      },
      "execution_count": 53,
      "outputs": []
    },
    {
      "cell_type": "code",
      "source": [
        "def eval_epoch(model, data_loader, device):\n",
        "    model.eval()\n",
        "    total_loss = 0\n",
        "    with torch.no_grad():\n",
        "        for batch in tqdm(data_loader):\n",
        "            input_ids = batch['input_ids'].to(device)\n",
        "            attention_mask = batch['attention_mask'].to(device)\n",
        "            labels = batch['label'].to(device)\n",
        "\n",
        "            outputs = model(\n",
        "                input_ids, attention_mask=attention_mask, labels=labels)\n",
        "            loss = outputs.loss\n",
        "            total_loss += loss.item()\n",
        "    return total_loss / len(data_loader)\n",
        "\n",
        "\n",
        "def get_classification_metrics(model, data_loader, device):\n",
        "    model.eval()\n",
        "    predictions, true_labels = [], []\n",
        "\n",
        "    with torch.no_grad():\n",
        "        for batch in tqdm(data_loader):\n",
        "            input_ids = batch['input_ids'].to(device)\n",
        "            attention_mask = batch['attention_mask'].to(device)\n",
        "            labels = batch['label'].to(device)\n",
        "\n",
        "            outputs = model(input_ids, attention_mask=attention_mask)\n",
        "            _, preds = torch.max(outputs.logits, dim=1)\n",
        "\n",
        "            predictions.extend(preds.tolist())\n",
        "            true_labels.extend(labels.tolist())\n",
        "\n",
        "    print(classification_report(true_labels, predictions))\n"
      ],
      "metadata": {
        "id": "4ryPBsMmUEjI"
      },
      "execution_count": 54,
      "outputs": []
    },
    {
      "cell_type": "code",
      "source": [
        "def main():\n",
        "    mode = input(\n",
        "        \"Enter 'train' to train a new model, or 'load' to load a pre-trained model: \").strip().lower()\n",
        "\n",
        "    while mode not in ['train', 'load']:\n",
        "        mode = input(\n",
        "            \"Enter 'train' to train a new model, or 'load' to load a pre-trained model: \").strip().lower()\n",
        "\n",
        "    if mode == 'train':\n",
        "        # Train and validate the model\n",
        "        best_val_loss = float('inf')\n",
        "        for epoch in range(epochs):\n",
        "            print(f\"Epoch {epoch + 1}/{epochs}\")\n",
        "            train_loss = train_epoch(\n",
        "                model, train_loader, optimizer, device, scheduler)\n",
        "            val_loss = eval_epoch(model, val_loader, device)\n",
        "            print(\n",
        "                f\"Train Loss: {train_loss:.4f}, Validation Loss: {val_loss:.4f}\")\n",
        "\n",
        "            if val_loss < best_val_loss:\n",
        "                best_val_loss = val_loss\n",
        "                torch.save(model.state_dict(), 'bert_task1_model.bin')\n",
        "                print(\"Saved best model\")\n",
        "\n",
        "    else:\n",
        "        # Load the pre-trained model\n",
        "        model_path = input(\"Enter the path to the pre-trained model: \").strip()\n",
        "        model.load_state_dict(torch.load(model_path))\n",
        "        print(\"Loaded pre-trained model\")\n",
        "\n",
        "    # Calculate and print classification metrics\n",
        "    get_classification_metrics(model, test_loader, device)\n",
        "\n",
        "\n",
        "if __name__ == '__main__':\n",
        "    main()\n"
      ],
      "metadata": {
        "id": "tUymI4EtUI7L",
        "colab": {
          "base_uri": "https://localhost:8080/"
        },
        "outputId": "2201e902-a590-463b-a7dc-b9276377e314"
      },
      "execution_count": 55,
      "outputs": [
        {
          "output_type": "stream",
          "name": "stdout",
          "text": [
            "Enter 'train' to train a new model, or 'load' to load a pre-trained model: train\n",
            "Epoch 1/3\n"
          ]
        },
        {
          "output_type": "stream",
          "name": "stderr",
          "text": [
            "100%|██████████| 136/136 [00:49<00:00,  2.77it/s]\n",
            "100%|██████████| 16/16 [00:01<00:00,  8.55it/s]\n"
          ]
        },
        {
          "output_type": "stream",
          "name": "stdout",
          "text": [
            "Train Loss: 0.5765, Validation Loss: 0.4241\n",
            "Saved best model\n",
            "Epoch 2/3\n"
          ]
        },
        {
          "output_type": "stream",
          "name": "stderr",
          "text": [
            "100%|██████████| 136/136 [00:45<00:00,  3.02it/s]\n",
            "100%|██████████| 16/16 [00:01<00:00,  8.86it/s]\n"
          ]
        },
        {
          "output_type": "stream",
          "name": "stdout",
          "text": [
            "Train Loss: 0.2687, Validation Loss: 0.4410\n",
            "Epoch 3/3\n"
          ]
        },
        {
          "output_type": "stream",
          "name": "stderr",
          "text": [
            "100%|██████████| 136/136 [00:45<00:00,  2.97it/s]\n",
            "100%|██████████| 16/16 [00:01<00:00,  8.50it/s]\n"
          ]
        },
        {
          "output_type": "stream",
          "name": "stdout",
          "text": [
            "Train Loss: 0.1104, Validation Loss: 0.5962\n"
          ]
        },
        {
          "output_type": "stream",
          "name": "stderr",
          "text": [
            "100%|██████████| 37/37 [00:04<00:00,  8.54it/s]"
          ]
        },
        {
          "output_type": "stream",
          "name": "stdout",
          "text": [
            "              precision    recall  f1-score   support\n",
            "\n",
            "           0       0.76      0.81      0.79       301\n",
            "           1       0.78      0.73      0.76       280\n",
            "\n",
            "    accuracy                           0.77       581\n",
            "   macro avg       0.77      0.77      0.77       581\n",
            "weighted avg       0.77      0.77      0.77       581\n",
            "\n"
          ]
        },
        {
          "output_type": "stream",
          "name": "stderr",
          "text": [
            "\n"
          ]
        }
      ]
    },
    {
      "cell_type": "markdown",
      "source": [
        "Task 1, Method 2 - word2vec technique"
      ],
      "metadata": {
        "id": "OEn9kyTiWHTM"
      }
    },
    {
      "cell_type": "code",
      "source": [
        "import os\n",
        "import numpy as np\n",
        "import pandas as pd\n",
        "from gensim.models import Word2Vec\n",
        "from sklearn.linear_model import LogisticRegression\n",
        "from sklearn.metrics import classification_report, accuracy_score\n"
      ],
      "metadata": {
        "id": "NVfogSWgWtcA"
      },
      "execution_count": 56,
      "outputs": []
    },
    {
      "cell_type": "code",
      "source": [
        "def remove_tags(text):\n",
        "    return text.replace(\"<BOS>\", \"\").replace(\"<EOS>\", \"\").strip()\n",
        "\n",
        "\n",
        "train_df = pd.read_csv('propaganda_train.tsv',\n",
        "                       delimiter='\\t', names=['label', 'sentence'])\n",
        "test_df = pd.read_csv('propaganda_val.tsv',\n",
        "                      delimiter='\\t', names=['label', 'sentence'])\n",
        "\n",
        "train_df['sentence'] = train_df['sentence'].apply(remove_tags)\n",
        "test_df['sentence'] = test_df['sentence'].apply(remove_tags)\n",
        "\n",
        "train_df['label_idx'] = train_df['label'].apply(\n",
        "    lambda x: 1 if x != 'not_propaganda' else 0)\n",
        "test_df['label_idx'] = test_df['label'].apply(\n",
        "    lambda x: 1 if x != 'not_propaganda' else 0)\n",
        "\n"
      ],
      "metadata": {
        "id": "ofkgwJpxWyaE"
      },
      "execution_count": 57,
      "outputs": []
    },
    {
      "cell_type": "code",
      "source": [
        "def get_sentence_vector(sentence, model):\n",
        "    words = sentence.split()\n",
        "    word_vectors = [model.wv[word] for word in words if word in model.wv]\n",
        "    if len(word_vectors) > 0:\n",
        "        return np.mean(word_vectors, axis=0)\n",
        "    else:\n",
        "        return np.zeros(model.vector_size)\n"
      ],
      "metadata": {
        "id": "4Zky4m-BW4Rc"
      },
      "execution_count": 58,
      "outputs": []
    },
    {
      "cell_type": "code",
      "source": [
        "word2vec_model = Word2Vec(\n",
        "    sentences=train_df['sentence'], vector_size=100, window=5, min_count=1, workers=4)\n",
        "\n",
        "train_embeddings = train_df['sentence'].apply(\n",
        "    lambda s: get_sentence_vector(s, word2vec_model))\n",
        "test_embeddings = test_df['sentence'].apply(\n",
        "    lambda s: get_sentence_vector(s, word2vec_model))\n",
        "\n",
        "X_train, y_train = np.vstack(\n",
        "    train_embeddings.values), train_df['label_idx'].values\n",
        "X_test, y_test = np.vstack(test_embeddings.values), test_df['label_idx'].values\n",
        "\n",
        "classifier = LogisticRegression(max_iter=1000)\n",
        "classifier.fit(X_train, y_train)\n",
        "\n",
        "y_pred_train = classifier.predict(X_train)\n",
        "y_pred_test = classifier.predict(X_test)\n"
      ],
      "metadata": {
        "id": "XRRGISxxW8G1",
        "colab": {
          "base_uri": "https://localhost:8080/"
        },
        "outputId": "74238179-71f1-4306-db0f-dbae4231396f"
      },
      "execution_count": 59,
      "outputs": [
        {
          "output_type": "stream",
          "name": "stderr",
          "text": [
            "WARNING:gensim.models.word2vec:Each 'sentences' item should be a list of words (usually unicode strings). First item here is instead plain <class 'str'>.\n"
          ]
        }
      ]
    },
    {
      "cell_type": "code",
      "source": [
        "print(\"Word2Vec + Linear Regression\")\n",
        "print(\"Training performance:\")\n",
        "print(classification_report(y_train, y_pred_train))\n",
        "print(\"Test performance:\")\n",
        "print(classification_report(y_test, y_pred_test))\n"
      ],
      "metadata": {
        "id": "M7opcyXcW_QT",
        "colab": {
          "base_uri": "https://localhost:8080/"
        },
        "outputId": "9cecc654-04c9-45b8-c2b8-1326984d2186"
      },
      "execution_count": 60,
      "outputs": [
        {
          "output_type": "stream",
          "name": "stdout",
          "text": [
            "Word2Vec + Linear Regression\n",
            "Training performance:\n",
            "              precision    recall  f1-score   support\n",
            "\n",
            "           0       0.70      0.94      0.80      1191\n",
            "           1       0.91      0.60      0.73      1224\n",
            "\n",
            "    accuracy                           0.77      2415\n",
            "   macro avg       0.81      0.77      0.76      2415\n",
            "weighted avg       0.81      0.77      0.76      2415\n",
            "\n",
            "Test performance:\n",
            "              precision    recall  f1-score   support\n",
            "\n",
            "           0       0.71      0.95      0.82       301\n",
            "           1       0.92      0.59      0.72       280\n",
            "\n",
            "    accuracy                           0.78       581\n",
            "   macro avg       0.82      0.77      0.77       581\n",
            "weighted avg       0.81      0.78      0.77       581\n",
            "\n"
          ]
        }
      ]
    },
    {
      "cell_type": "markdown",
      "source": [
        "Task 2, Method 1 "
      ],
      "metadata": {
        "id": "iGouhcjMXCUN"
      }
    },
    {
      "cell_type": "code",
      "source": [
        "import os\n",
        "import torch\n",
        "import numpy as np\n",
        "import pandas as pd\n",
        "from transformers import BertTokenizer, BertForSequenceClassification, Trainer, TrainingArguments\n",
        "from sklearn.metrics import classification_report\n"
      ],
      "metadata": {
        "id": "DhPsbzHzXGBc"
      },
      "execution_count": 61,
      "outputs": []
    },
    {
      "cell_type": "code",
      "source": [
        "def extract_tags_and_context(text):\n",
        "    start = text.find(\"<BOS>\")\n",
        "    end = text.find(\"<EOS>\") + len(\"<EOS>\")\n",
        "    return text[:start] + text[start+len(\"<BOS>\"):end-len(\"<EOS>\")] + text[end:]\n",
        "\n",
        "\n",
        "train_df = pd.read_csv('propaganda_train.tsv',\n",
        "                       delimiter='\\t', names=['label', 'sentence'])\n",
        "test_df = pd.read_csv('propaganda_val.tsv',\n",
        "                      delimiter='\\t', names=['label', 'sentence'])\n",
        "\n",
        "train_df['snippet_with_context'] = train_df['sentence'].apply(\n",
        "    extract_tags_and_context)\n",
        "test_df['snippet_with_context'] = test_df['sentence'].apply(\n",
        "    extract_tags_and_context)\n",
        "\n",
        "label_to_idx = {label: idx for idx,\n",
        "                label in enumerate(train_df['label'].unique())}\n",
        "idx_to_label = {idx: label for label, idx in label_to_idx.items()}\n",
        "train_df['label_idx'] = train_df['label'].map(label_to_idx)\n",
        "test_df['label_idx'] = test_df['label'].map(label_to_idx)\n",
        "\n",
        "\n",
        "tokenizer = BertTokenizer.from_pretrained('bert-base-uncased')"
      ],
      "metadata": {
        "id": "McVmps_1XQ2M"
      },
      "execution_count": 62,
      "outputs": []
    },
    {
      "cell_type": "code",
      "source": [
        "train_encodings = tokenizer(\n",
        "    train_df['snippet_with_context'].to_list(),\n",
        "    padding=True,\n",
        "    truncation=True,\n",
        "    max_length=512,\n",
        "    return_tensors='pt'\n",
        ")\n",
        "\n",
        "test_encodings = tokenizer(\n",
        "    test_df['snippet_with_context'].to_list(),\n",
        "    padding=True,\n",
        "    truncation=True,\n",
        "    max_length=512,\n",
        "    return_tensors='pt'\n",
        ")"
      ],
      "metadata": {
        "id": "sWttY0gKXT1U"
      },
      "execution_count": 63,
      "outputs": []
    },
    {
      "cell_type": "code",
      "source": [
        "class PropagandaDataset(torch.utils.data.Dataset):\n",
        "    def __init__(self, encodings, labels):\n",
        "        self.encodings = encodings\n",
        "        self.labels = labels\n",
        "\n",
        "    def __getitem__(self, idx):\n",
        "        item = {key: torch.tensor(val[idx])\n",
        "                for key, val in self.encodings.items()}\n",
        "        item['labels'] = torch.tensor(self.labels[idx])\n",
        "        return item\n",
        "\n",
        "    def __len__(self):\n",
        "        return len(self.labels)\n",
        "\n",
        "\n",
        "train_dataset = PropagandaDataset(\n",
        "    train_encodings, train_df['label_idx'].values)\n",
        "test_dataset = PropagandaDataset(test_encodings, test_df['label_idx'].values)"
      ],
      "metadata": {
        "id": "0tDi_p-6XWUq"
      },
      "execution_count": 64,
      "outputs": []
    },
    {
      "cell_type": "code",
      "source": [
        "model = BertForSequenceClassification.from_pretrained(\n",
        "    'bert-base-uncased', num_labels=len(label_to_idx))\n",
        "\n",
        "training_args = TrainingArguments(\n",
        "    output_dir='./results',\n",
        "    num_train_epochs=3,\n",
        "    per_device_train_batch_size=8,\n",
        "    per_device_eval_batch_size=8,\n",
        "    warmup_steps=500,\n",
        "    weight_decay=0.01,\n",
        "    logging_dir='./logs',\n",
        "    logging_steps=10,\n",
        "    evaluation_strategy=\"steps\",\n",
        "    eval_steps=50,\n",
        "    load_best_model_at_end=True\n",
        ")\n",
        "\n",
        "trainer = Trainer(\n",
        "    model=model,\n",
        "    args=training_args,\n",
        "    train_dataset=train_dataset,\n",
        "    eval_dataset=test_dataset,\n",
        "    tokenizer=tokenizer\n",
        ")\n",
        "\n",
        "\n",
        "trainer.train()"
      ],
      "metadata": {
        "id": "UKe2tmJ-Xa77",
        "colab": {
          "base_uri": "https://localhost:8080/",
          "height": 886
        },
        "outputId": "c14d5921-6d9e-475b-e871-c129daed308f"
      },
      "execution_count": 65,
      "outputs": [
        {
          "output_type": "stream",
          "name": "stderr",
          "text": [
            "Some weights of the model checkpoint at bert-base-uncased were not used when initializing BertForSequenceClassification: ['cls.predictions.transform.LayerNorm.weight', 'cls.seq_relationship.weight', 'cls.seq_relationship.bias', 'cls.predictions.bias', 'cls.predictions.decoder.weight', 'cls.predictions.transform.LayerNorm.bias', 'cls.predictions.transform.dense.bias', 'cls.predictions.transform.dense.weight']\n",
            "- This IS expected if you are initializing BertForSequenceClassification from the checkpoint of a model trained on another task or with another architecture (e.g. initializing a BertForSequenceClassification model from a BertForPreTraining model).\n",
            "- This IS NOT expected if you are initializing BertForSequenceClassification from the checkpoint of a model that you expect to be exactly identical (initializing a BertForSequenceClassification model from a BertForSequenceClassification model).\n",
            "Some weights of BertForSequenceClassification were not initialized from the model checkpoint at bert-base-uncased and are newly initialized: ['classifier.bias', 'classifier.weight']\n",
            "You should probably TRAIN this model on a down-stream task to be able to use it for predictions and inference.\n",
            "/usr/local/lib/python3.10/dist-packages/transformers/optimization.py:391: FutureWarning: This implementation of AdamW is deprecated and will be removed in a future version. Use the PyTorch implementation torch.optim.AdamW instead, or set `no_deprecation_warning=True` to disable this warning\n",
            "  warnings.warn(\n",
            "<ipython-input-64-99d87c89802b>:7: UserWarning: To copy construct from a tensor, it is recommended to use sourceTensor.clone().detach() or sourceTensor.clone().detach().requires_grad_(True), rather than torch.tensor(sourceTensor).\n",
            "  item = {key: torch.tensor(val[idx])\n"
          ]
        },
        {
          "output_type": "display_data",
          "data": {
            "text/plain": [
              "<IPython.core.display.HTML object>"
            ],
            "text/html": [
              "\n",
              "    <div>\n",
              "      \n",
              "      <progress value='906' max='906' style='width:300px; height:20px; vertical-align: middle;'></progress>\n",
              "      [906/906 16:00, Epoch 3/3]\n",
              "    </div>\n",
              "    <table border=\"1\" class=\"dataframe\">\n",
              "  <thead>\n",
              " <tr style=\"text-align: left;\">\n",
              "      <th>Step</th>\n",
              "      <th>Training Loss</th>\n",
              "      <th>Validation Loss</th>\n",
              "    </tr>\n",
              "  </thead>\n",
              "  <tbody>\n",
              "    <tr>\n",
              "      <td>50</td>\n",
              "      <td>2.245400</td>\n",
              "      <td>2.195591</td>\n",
              "    </tr>\n",
              "    <tr>\n",
              "      <td>100</td>\n",
              "      <td>1.790300</td>\n",
              "      <td>1.811183</td>\n",
              "    </tr>\n",
              "    <tr>\n",
              "      <td>150</td>\n",
              "      <td>1.931100</td>\n",
              "      <td>1.728102</td>\n",
              "    </tr>\n",
              "    <tr>\n",
              "      <td>200</td>\n",
              "      <td>1.676000</td>\n",
              "      <td>1.639129</td>\n",
              "    </tr>\n",
              "    <tr>\n",
              "      <td>250</td>\n",
              "      <td>1.639600</td>\n",
              "      <td>1.538205</td>\n",
              "    </tr>\n",
              "    <tr>\n",
              "      <td>300</td>\n",
              "      <td>1.613000</td>\n",
              "      <td>1.522162</td>\n",
              "    </tr>\n",
              "    <tr>\n",
              "      <td>350</td>\n",
              "      <td>1.472700</td>\n",
              "      <td>1.448468</td>\n",
              "    </tr>\n",
              "    <tr>\n",
              "      <td>400</td>\n",
              "      <td>1.509200</td>\n",
              "      <td>1.556169</td>\n",
              "    </tr>\n",
              "    <tr>\n",
              "      <td>450</td>\n",
              "      <td>1.689200</td>\n",
              "      <td>1.517917</td>\n",
              "    </tr>\n",
              "    <tr>\n",
              "      <td>500</td>\n",
              "      <td>1.470300</td>\n",
              "      <td>1.360403</td>\n",
              "    </tr>\n",
              "    <tr>\n",
              "      <td>550</td>\n",
              "      <td>1.405500</td>\n",
              "      <td>1.357184</td>\n",
              "    </tr>\n",
              "    <tr>\n",
              "      <td>600</td>\n",
              "      <td>1.145400</td>\n",
              "      <td>1.441451</td>\n",
              "    </tr>\n",
              "    <tr>\n",
              "      <td>650</td>\n",
              "      <td>0.896400</td>\n",
              "      <td>1.443869</td>\n",
              "    </tr>\n",
              "    <tr>\n",
              "      <td>700</td>\n",
              "      <td>0.867500</td>\n",
              "      <td>1.353554</td>\n",
              "    </tr>\n",
              "    <tr>\n",
              "      <td>750</td>\n",
              "      <td>0.855300</td>\n",
              "      <td>1.374569</td>\n",
              "    </tr>\n",
              "    <tr>\n",
              "      <td>800</td>\n",
              "      <td>0.745300</td>\n",
              "      <td>1.322221</td>\n",
              "    </tr>\n",
              "    <tr>\n",
              "      <td>850</td>\n",
              "      <td>0.771500</td>\n",
              "      <td>1.355128</td>\n",
              "    </tr>\n",
              "    <tr>\n",
              "      <td>900</td>\n",
              "      <td>0.794700</td>\n",
              "      <td>1.341084</td>\n",
              "    </tr>\n",
              "  </tbody>\n",
              "</table><p>"
            ]
          },
          "metadata": {}
        },
        {
          "output_type": "stream",
          "name": "stderr",
          "text": [
            "<ipython-input-64-99d87c89802b>:7: UserWarning: To copy construct from a tensor, it is recommended to use sourceTensor.clone().detach() or sourceTensor.clone().detach().requires_grad_(True), rather than torch.tensor(sourceTensor).\n",
            "  item = {key: torch.tensor(val[idx])\n"
          ]
        },
        {
          "output_type": "execute_result",
          "data": {
            "text/plain": [
              "TrainOutput(global_step=906, training_loss=1.420048457897262, metrics={'train_runtime': 961.5783, 'train_samples_per_second': 7.534, 'train_steps_per_second': 0.942, 'total_flos': 1906376518932480.0, 'train_loss': 1.420048457897262, 'epoch': 3.0})"
            ]
          },
          "metadata": {},
          "execution_count": 65
        }
      ]
    },
    {
      "cell_type": "code",
      "source": [
        "raw_pred, _, _ = trainer.predict(test_dataset)\n",
        "y_pred = np.argmax(raw_pred, axis=1)\n",
        "\n",
        "\n",
        "print(\"Test performance:\")\n",
        "print(classification_report(\n",
        "    test_df['label_idx'].values, y_pred, target_names=label_to_idx.keys()))"
      ],
      "metadata": {
        "id": "u6iLFmh6XfBn",
        "colab": {
          "base_uri": "https://localhost:8080/",
          "height": 488
        },
        "outputId": "fb0f88c9-01bf-4386-bff7-32dd1e305369"
      },
      "execution_count": 66,
      "outputs": [
        {
          "output_type": "stream",
          "name": "stderr",
          "text": [
            "<ipython-input-64-99d87c89802b>:7: UserWarning: To copy construct from a tensor, it is recommended to use sourceTensor.clone().detach() or sourceTensor.clone().detach().requires_grad_(True), rather than torch.tensor(sourceTensor).\n",
            "  item = {key: torch.tensor(val[idx])\n"
          ]
        },
        {
          "output_type": "display_data",
          "data": {
            "text/plain": [
              "<IPython.core.display.HTML object>"
            ],
            "text/html": []
          },
          "metadata": {}
        },
        {
          "output_type": "stream",
          "name": "stdout",
          "text": [
            "Test performance:\n",
            "                           precision    recall  f1-score   support\n",
            "\n",
            "                    label       0.00      0.00      0.00         1\n",
            "           not_propaganda       0.65      0.96      0.77       301\n",
            "              flag_waving       0.41      0.69      0.51        39\n",
            "          loaded_language       0.20      0.03      0.05        37\n",
            "                    doubt       0.33      0.03      0.05        38\n",
            "    name_calling,labeling       0.25      0.16      0.20        31\n",
            " appeal_to_fear_prejudice       0.58      0.16      0.25        43\n",
            "               repetition       0.00      0.00      0.00        32\n",
            "causal_oversimplification       0.00      0.00      0.00        31\n",
            "exaggeration,minimisation       0.30      0.29      0.29        28\n",
            "\n",
            "                 accuracy                           0.58       581\n",
            "                macro avg       0.27      0.23      0.21       581\n",
            "             weighted avg       0.47      0.58      0.48       581\n",
            "\n"
          ]
        },
        {
          "output_type": "stream",
          "name": "stderr",
          "text": [
            "/usr/local/lib/python3.10/dist-packages/sklearn/metrics/_classification.py:1344: UndefinedMetricWarning: Precision and F-score are ill-defined and being set to 0.0 in labels with no predicted samples. Use `zero_division` parameter to control this behavior.\n",
            "  _warn_prf(average, modifier, msg_start, len(result))\n",
            "/usr/local/lib/python3.10/dist-packages/sklearn/metrics/_classification.py:1344: UndefinedMetricWarning: Precision and F-score are ill-defined and being set to 0.0 in labels with no predicted samples. Use `zero_division` parameter to control this behavior.\n",
            "  _warn_prf(average, modifier, msg_start, len(result))\n",
            "/usr/local/lib/python3.10/dist-packages/sklearn/metrics/_classification.py:1344: UndefinedMetricWarning: Precision and F-score are ill-defined and being set to 0.0 in labels with no predicted samples. Use `zero_division` parameter to control this behavior.\n",
            "  _warn_prf(average, modifier, msg_start, len(result))\n"
          ]
        }
      ]
    },
    {
      "cell_type": "markdown",
      "source": [
        "Task 2, Method 2 - Regression Technique"
      ],
      "metadata": {
        "id": "dE_gGTD8XkDk"
      }
    },
    {
      "cell_type": "code",
      "source": [
        "import os\n",
        "import numpy as np\n",
        "import pandas as pd\n",
        "from sklearn.feature_extraction.text import TfidfVectorizer\n",
        "from sklearn.linear_model import LogisticRegression\n",
        "from sklearn.model_selection import train_test_split\n",
        "from sklearn.metrics import classification_report"
      ],
      "metadata": {
        "id": "iouGz2HtXog7"
      },
      "execution_count": 67,
      "outputs": []
    },
    {
      "cell_type": "code",
      "source": [
        "def extract_tags_and_context(text):\n",
        "    start = text.find(\"<BOS>\")\n",
        "    end = text.find(\"<EOS>\") + len(\"<EOS>\")\n",
        "    return text[:start] + text[start+len(\"<BOS>\"):end-len(\"<EOS>\")] + text[end:]\n",
        "\n",
        "\n",
        "train_df = pd.read_csv('propaganda_train.tsv',\n",
        "                       delimiter='\\t', names=['label', 'sentence'])\n",
        "test_df = pd.read_csv('propaganda_val.tsv', delimiter='\\t',\n",
        "                      names=['label', 'sentence'])\n",
        "\n",
        "train_df['snippet_with_context'] = train_df['sentence'].apply(\n",
        "    extract_tags_and_context)\n",
        "test_df['snippet_with_context'] = test_df['sentence'].apply(\n",
        "    extract_tags_and_context)\n"
      ],
      "metadata": {
        "id": "xCwbagFNXtYR"
      },
      "execution_count": 68,
      "outputs": []
    },
    {
      "cell_type": "code",
      "source": [
        "label_to_idx = {label: idx for idx,\n",
        "                label in enumerate(train_df['label'].unique())}\n",
        "idx_to_label = {idx: label for label, idx in label_to_idx.items()}\n",
        "train_df['label_idx'] = train_df['label'].map(label_to_idx)\n",
        "test_df['label_idx'] = test_df['label'].map(label_to_idx)\n",
        "\n",
        "\n",
        "vectorizer = TfidfVectorizer()\n",
        "vectorizer.fit(train_df['snippet_with_context'])\n",
        "\n",
        "\n",
        "X_train = vectorizer.transform(train_df['snippet_with_context'])\n",
        "y_train = train_df['label_idx'].values\n",
        "X_test = vectorizer.transform(test_df['snippet_with_context'])\n",
        "y_test = test_df['label_idx'].values\n",
        "\n",
        "\n",
        "classifier = LogisticRegression(max_iter=1000)\n",
        "classifier.fit(X_train, y_train)\n",
        "\n",
        "\n",
        "y_pred_train = classifier.predict(X_train)\n",
        "y_pred_test = classifier.predict(X_test)"
      ],
      "metadata": {
        "id": "AmMPQAnnXx9E"
      },
      "execution_count": 69,
      "outputs": []
    },
    {
      "cell_type": "code",
      "source": [
        "print(\"Training performance:\")\n",
        "print(classification_report(y_train, y_pred_train))\n",
        "\n",
        "print(\"Test performance:\")\n",
        "print(classification_report(y_test, y_pred_test))\n"
      ],
      "metadata": {
        "id": "WAd4md6zX07L",
        "colab": {
          "base_uri": "https://localhost:8080/"
        },
        "outputId": "348f33ce-3f75-47c2-a625-10936f90448b"
      },
      "execution_count": 70,
      "outputs": [
        {
          "output_type": "stream",
          "name": "stdout",
          "text": [
            "Training performance:\n",
            "              precision    recall  f1-score   support\n",
            "\n",
            "           0       0.00      0.00      0.00         1\n",
            "           1       0.54      1.00      0.70      1191\n",
            "           2       0.85      0.42      0.56       148\n",
            "           3       0.82      0.06      0.11       154\n",
            "           4       1.00      0.04      0.08       144\n",
            "           5       0.68      0.10      0.17       157\n",
            "           6       0.97      0.19      0.31       151\n",
            "           7       1.00      0.06      0.12       147\n",
            "           8       0.88      0.23      0.36       158\n",
            "           9       0.85      0.18      0.29       164\n",
            "\n",
            "    accuracy                           0.57      2415\n",
            "   macro avg       0.76      0.23      0.27      2415\n",
            "weighted avg       0.71      0.57      0.47      2415\n",
            "\n",
            "Test performance:\n",
            "              precision    recall  f1-score   support\n",
            "\n",
            "           0       0.00      0.00      0.00         1\n",
            "           1       0.54      0.99      0.70       301\n",
            "           2       0.90      0.23      0.37        39\n",
            "           3       0.00      0.00      0.00        37\n",
            "           4       0.00      0.00      0.00        38\n",
            "           5       0.33      0.03      0.06        31\n",
            "           6       0.00      0.00      0.00        43\n",
            "           7       1.00      0.09      0.17        32\n",
            "           8       0.40      0.06      0.11        31\n",
            "           9       0.00      0.00      0.00        28\n",
            "\n",
            "    accuracy                           0.54       581\n",
            "   macro avg       0.32      0.14      0.14       581\n",
            "weighted avg       0.43      0.54      0.40       581\n",
            "\n"
          ]
        },
        {
          "output_type": "stream",
          "name": "stderr",
          "text": [
            "/usr/local/lib/python3.10/dist-packages/sklearn/metrics/_classification.py:1344: UndefinedMetricWarning: Precision and F-score are ill-defined and being set to 0.0 in labels with no predicted samples. Use `zero_division` parameter to control this behavior.\n",
            "  _warn_prf(average, modifier, msg_start, len(result))\n",
            "/usr/local/lib/python3.10/dist-packages/sklearn/metrics/_classification.py:1344: UndefinedMetricWarning: Precision and F-score are ill-defined and being set to 0.0 in labels with no predicted samples. Use `zero_division` parameter to control this behavior.\n",
            "  _warn_prf(average, modifier, msg_start, len(result))\n",
            "/usr/local/lib/python3.10/dist-packages/sklearn/metrics/_classification.py:1344: UndefinedMetricWarning: Precision and F-score are ill-defined and being set to 0.0 in labels with no predicted samples. Use `zero_division` parameter to control this behavior.\n",
            "  _warn_prf(average, modifier, msg_start, len(result))\n",
            "/usr/local/lib/python3.10/dist-packages/sklearn/metrics/_classification.py:1344: UndefinedMetricWarning: Precision and F-score are ill-defined and being set to 0.0 in labels with no predicted samples. Use `zero_division` parameter to control this behavior.\n",
            "  _warn_prf(average, modifier, msg_start, len(result))\n",
            "/usr/local/lib/python3.10/dist-packages/sklearn/metrics/_classification.py:1344: UndefinedMetricWarning: Precision and F-score are ill-defined and being set to 0.0 in labels with no predicted samples. Use `zero_division` parameter to control this behavior.\n",
            "  _warn_prf(average, modifier, msg_start, len(result))\n",
            "/usr/local/lib/python3.10/dist-packages/sklearn/metrics/_classification.py:1344: UndefinedMetricWarning: Precision and F-score are ill-defined and being set to 0.0 in labels with no predicted samples. Use `zero_division` parameter to control this behavior.\n",
            "  _warn_prf(average, modifier, msg_start, len(result))\n"
          ]
        }
      ]
    }
  ]
}